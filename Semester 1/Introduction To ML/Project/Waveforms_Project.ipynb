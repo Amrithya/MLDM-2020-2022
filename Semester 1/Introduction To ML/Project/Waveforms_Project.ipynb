{
  "nbformat": 4,
  "nbformat_minor": 0,
  "metadata": {
    "kernelspec": {
      "display_name": "Python 3",
      "language": "python",
      "name": "python3"
    },
    "language_info": {
      "codemirror_mode": {
        "name": "ipython",
        "version": 3
      },
      "file_extension": ".py",
      "mimetype": "text/x-python",
      "name": "python",
      "nbconvert_exporter": "python",
      "pygments_lexer": "ipython3",
      "version": "3.8.5"
    },
    "colab": {
      "name": "Waveforms Project.ipynb",
      "provenance": [],
      "toc_visible": true
    }
  },
  "cells": [
    {
      "cell_type": "code",
      "metadata": {
        "execution": {
          "iopub.execute_input": "2020-12-12T14:24:41.563180Z",
          "iopub.status.busy": "2020-12-12T14:24:41.562404Z",
          "iopub.status.idle": "2020-12-12T14:24:53.756872Z",
          "shell.execute_reply": "2020-12-12T14:24:53.756350Z",
          "shell.execute_reply.started": "2020-12-12T14:24:41.563099Z"
        },
        "id": "ui5u2gXdYF8b"
      },
      "source": [
        "import numpy as np\n",
        "import os\n",
        "import pandas as pd\n",
        "import seaborn as sns\n",
        "import matplotlib.pyplot as plt\n",
        "from sklearn.model_selection import train_test_split\n",
        "from sklearn.neighbors import KNeighborsClassifier\n",
        "from sklearn.metrics import accuracy_score\n",
        "\n",
        "from joblib import Parallel,delayed\n",
        "from imblearn.under_sampling import CondensedNearestNeighbour,RepeatedEditedNearestNeighbours\n",
        "from imblearn.over_sampling import SMOTE\n",
        "\n",
        "import warnings\n",
        "warnings.simplefilter(action='ignore', category=FutureWarning)"
      ],
      "execution_count": 80,
      "outputs": []
    },
    {
      "cell_type": "code",
      "metadata": {
        "colab": {
          "base_uri": "https://localhost:8080/"
        },
        "id": "N8zSzvlVYWwV",
        "outputId": "f0a0cfcc-bf83-4fa6-ff9a-3452ff8f8724"
      },
      "source": [
        "import os\n",
        "os.listdir()"
      ],
      "execution_count": 81,
      "outputs": [
        {
          "output_type": "execute_result",
          "data": {
            "text/plain": [
              "['.config',\n",
              " 'knn_train_test.png',\n",
              " 'sm.png',\n",
              " 'knn_bias.png',\n",
              " 'rnn.png',\n",
              " 'knn.png',\n",
              " 'cnn.png',\n",
              " 'waveform_data.csv',\n",
              " 'sample_data']"
            ]
          },
          "metadata": {
            "tags": []
          },
          "execution_count": 81
        }
      ]
    },
    {
      "cell_type": "code",
      "metadata": {
        "execution": {
          "iopub.execute_input": "2020-12-12T14:24:53.773958Z",
          "iopub.status.busy": "2020-12-12T14:24:53.773659Z",
          "iopub.status.idle": "2020-12-12T14:24:53.868656Z",
          "shell.execute_reply": "2020-12-12T14:24:53.867835Z",
          "shell.execute_reply.started": "2020-12-12T14:24:53.773917Z"
        },
        "id": "MZp7NpA2YF8l"
      },
      "source": [
        "data=pd.read_csv('waveform_data.csv',header=None)"
      ],
      "execution_count": 82,
      "outputs": []
    },
    {
      "cell_type": "code",
      "metadata": {
        "execution": {
          "iopub.execute_input": "2020-12-12T14:24:53.870666Z",
          "iopub.status.busy": "2020-12-12T14:24:53.870348Z",
          "iopub.status.idle": "2020-12-12T14:24:54.320714Z",
          "shell.execute_reply": "2020-12-12T14:24:54.320086Z",
          "shell.execute_reply.started": "2020-12-12T14:24:53.870608Z"
        },
        "colab": {
          "base_uri": "https://localhost:8080/",
          "height": 204
        },
        "id": "gzvv4o1YYF8m",
        "outputId": "4325e85d-6de2-4e05-a52d-62470e6cd76d"
      },
      "source": [
        "data.head()\n",
        "# Multi-Class Classification"
      ],
      "execution_count": 83,
      "outputs": [
        {
          "output_type": "execute_result",
          "data": {
            "text/html": [
              "<div>\n",
              "<style scoped>\n",
              "    .dataframe tbody tr th:only-of-type {\n",
              "        vertical-align: middle;\n",
              "    }\n",
              "\n",
              "    .dataframe tbody tr th {\n",
              "        vertical-align: top;\n",
              "    }\n",
              "\n",
              "    .dataframe thead th {\n",
              "        text-align: right;\n",
              "    }\n",
              "</style>\n",
              "<table border=\"1\" class=\"dataframe\">\n",
              "  <thead>\n",
              "    <tr style=\"text-align: right;\">\n",
              "      <th></th>\n",
              "      <th>0</th>\n",
              "      <th>1</th>\n",
              "      <th>2</th>\n",
              "      <th>3</th>\n",
              "      <th>4</th>\n",
              "      <th>5</th>\n",
              "      <th>6</th>\n",
              "      <th>7</th>\n",
              "      <th>8</th>\n",
              "      <th>9</th>\n",
              "      <th>10</th>\n",
              "      <th>11</th>\n",
              "      <th>12</th>\n",
              "      <th>13</th>\n",
              "      <th>14</th>\n",
              "      <th>15</th>\n",
              "      <th>16</th>\n",
              "      <th>17</th>\n",
              "      <th>18</th>\n",
              "      <th>19</th>\n",
              "      <th>20</th>\n",
              "      <th>21</th>\n",
              "    </tr>\n",
              "  </thead>\n",
              "  <tbody>\n",
              "    <tr>\n",
              "      <th>0</th>\n",
              "      <td>-1.23</td>\n",
              "      <td>-1.56</td>\n",
              "      <td>-1.75</td>\n",
              "      <td>-0.28</td>\n",
              "      <td>0.60</td>\n",
              "      <td>2.22</td>\n",
              "      <td>0.85</td>\n",
              "      <td>0.21</td>\n",
              "      <td>-0.20</td>\n",
              "      <td>0.89</td>\n",
              "      <td>1.08</td>\n",
              "      <td>4.20</td>\n",
              "      <td>2.89</td>\n",
              "      <td>7.75</td>\n",
              "      <td>4.59</td>\n",
              "      <td>3.15</td>\n",
              "      <td>5.12</td>\n",
              "      <td>3.32</td>\n",
              "      <td>1.20</td>\n",
              "      <td>0.24</td>\n",
              "      <td>-0.56</td>\n",
              "      <td>2</td>\n",
              "    </tr>\n",
              "    <tr>\n",
              "      <th>1</th>\n",
              "      <td>-0.69</td>\n",
              "      <td>2.43</td>\n",
              "      <td>0.61</td>\n",
              "      <td>2.08</td>\n",
              "      <td>2.30</td>\n",
              "      <td>3.25</td>\n",
              "      <td>5.52</td>\n",
              "      <td>4.55</td>\n",
              "      <td>2.97</td>\n",
              "      <td>2.22</td>\n",
              "      <td>2.81</td>\n",
              "      <td>1.61</td>\n",
              "      <td>1.24</td>\n",
              "      <td>1.89</td>\n",
              "      <td>1.88</td>\n",
              "      <td>-1.34</td>\n",
              "      <td>0.83</td>\n",
              "      <td>1.41</td>\n",
              "      <td>1.78</td>\n",
              "      <td>0.60</td>\n",
              "      <td>2.42</td>\n",
              "      <td>1</td>\n",
              "    </tr>\n",
              "    <tr>\n",
              "      <th>2</th>\n",
              "      <td>-0.12</td>\n",
              "      <td>-0.94</td>\n",
              "      <td>1.29</td>\n",
              "      <td>2.59</td>\n",
              "      <td>2.42</td>\n",
              "      <td>3.55</td>\n",
              "      <td>4.94</td>\n",
              "      <td>3.25</td>\n",
              "      <td>1.90</td>\n",
              "      <td>2.07</td>\n",
              "      <td>0.51</td>\n",
              "      <td>1.45</td>\n",
              "      <td>2.50</td>\n",
              "      <td>0.12</td>\n",
              "      <td>1.41</td>\n",
              "      <td>2.78</td>\n",
              "      <td>0.64</td>\n",
              "      <td>0.62</td>\n",
              "      <td>-0.01</td>\n",
              "      <td>-0.79</td>\n",
              "      <td>-0.12</td>\n",
              "      <td>0</td>\n",
              "    </tr>\n",
              "    <tr>\n",
              "      <th>3</th>\n",
              "      <td>0.86</td>\n",
              "      <td>0.29</td>\n",
              "      <td>2.19</td>\n",
              "      <td>-0.02</td>\n",
              "      <td>1.13</td>\n",
              "      <td>2.51</td>\n",
              "      <td>2.37</td>\n",
              "      <td>5.45</td>\n",
              "      <td>5.45</td>\n",
              "      <td>4.84</td>\n",
              "      <td>4.65</td>\n",
              "      <td>4.05</td>\n",
              "      <td>2.58</td>\n",
              "      <td>1.40</td>\n",
              "      <td>1.24</td>\n",
              "      <td>1.41</td>\n",
              "      <td>1.07</td>\n",
              "      <td>-1.43</td>\n",
              "      <td>2.84</td>\n",
              "      <td>-1.18</td>\n",
              "      <td>1.12</td>\n",
              "      <td>1</td>\n",
              "    </tr>\n",
              "    <tr>\n",
              "      <th>4</th>\n",
              "      <td>1.16</td>\n",
              "      <td>0.37</td>\n",
              "      <td>0.40</td>\n",
              "      <td>-0.59</td>\n",
              "      <td>2.66</td>\n",
              "      <td>1.00</td>\n",
              "      <td>2.69</td>\n",
              "      <td>4.06</td>\n",
              "      <td>5.34</td>\n",
              "      <td>3.53</td>\n",
              "      <td>4.82</td>\n",
              "      <td>4.79</td>\n",
              "      <td>4.30</td>\n",
              "      <td>1.84</td>\n",
              "      <td>1.73</td>\n",
              "      <td>0.21</td>\n",
              "      <td>-0.18</td>\n",
              "      <td>0.13</td>\n",
              "      <td>-0.21</td>\n",
              "      <td>-0.80</td>\n",
              "      <td>-0.68</td>\n",
              "      <td>1</td>\n",
              "    </tr>\n",
              "  </tbody>\n",
              "</table>\n",
              "</div>"
            ],
            "text/plain": [
              "     0     1     2     3     4     5   ...    16    17    18    19    20  21\n",
              "0 -1.23 -1.56 -1.75 -0.28  0.60  2.22  ...  5.12  3.32  1.20  0.24 -0.56   2\n",
              "1 -0.69  2.43  0.61  2.08  2.30  3.25  ...  0.83  1.41  1.78  0.60  2.42   1\n",
              "2 -0.12 -0.94  1.29  2.59  2.42  3.55  ...  0.64  0.62 -0.01 -0.79 -0.12   0\n",
              "3  0.86  0.29  2.19 -0.02  1.13  2.51  ...  1.07 -1.43  2.84 -1.18  1.12   1\n",
              "4  1.16  0.37  0.40 -0.59  2.66  1.00  ... -0.18  0.13 -0.21 -0.80 -0.68   1\n",
              "\n",
              "[5 rows x 22 columns]"
            ]
          },
          "metadata": {
            "tags": []
          },
          "execution_count": 83
        }
      ]
    },
    {
      "cell_type": "code",
      "metadata": {
        "execution": {
          "iopub.execute_input": "2020-12-12T14:24:54.322077Z",
          "iopub.status.busy": "2020-12-12T14:24:54.321889Z",
          "iopub.status.idle": "2020-12-12T14:24:54.499456Z",
          "shell.execute_reply": "2020-12-12T14:24:54.498617Z",
          "shell.execute_reply.started": "2020-12-12T14:24:54.322053Z"
        },
        "colab": {
          "base_uri": "https://localhost:8080/"
        },
        "id": "1NMuJ4NBYF8o",
        "outputId": "0cf94142-e771-4842-997a-f56d154ede6a"
      },
      "source": [
        "data.info()"
      ],
      "execution_count": 84,
      "outputs": [
        {
          "output_type": "stream",
          "text": [
            "<class 'pandas.core.frame.DataFrame'>\n",
            "RangeIndex: 5000 entries, 0 to 4999\n",
            "Data columns (total 22 columns):\n",
            " #   Column  Non-Null Count  Dtype  \n",
            "---  ------  --------------  -----  \n",
            " 0   0       5000 non-null   float64\n",
            " 1   1       5000 non-null   float64\n",
            " 2   2       5000 non-null   float64\n",
            " 3   3       5000 non-null   float64\n",
            " 4   4       5000 non-null   float64\n",
            " 5   5       5000 non-null   float64\n",
            " 6   6       5000 non-null   float64\n",
            " 7   7       5000 non-null   float64\n",
            " 8   8       5000 non-null   float64\n",
            " 9   9       5000 non-null   float64\n",
            " 10  10      5000 non-null   float64\n",
            " 11  11      5000 non-null   float64\n",
            " 12  12      5000 non-null   float64\n",
            " 13  13      5000 non-null   float64\n",
            " 14  14      5000 non-null   float64\n",
            " 15  15      5000 non-null   float64\n",
            " 16  16      5000 non-null   float64\n",
            " 17  17      5000 non-null   float64\n",
            " 18  18      5000 non-null   float64\n",
            " 19  19      5000 non-null   float64\n",
            " 20  20      5000 non-null   float64\n",
            " 21  21      5000 non-null   int64  \n",
            "dtypes: float64(21), int64(1)\n",
            "memory usage: 859.5 KB\n"
          ],
          "name": "stdout"
        }
      ]
    },
    {
      "cell_type": "code",
      "metadata": {
        "execution": {
          "iopub.execute_input": "2020-12-12T14:24:54.503712Z",
          "iopub.status.busy": "2020-12-12T14:24:54.502837Z",
          "iopub.status.idle": "2020-12-12T14:24:55.561428Z",
          "shell.execute_reply": "2020-12-12T14:24:55.560513Z",
          "shell.execute_reply.started": "2020-12-12T14:24:54.503607Z"
        },
        "colab": {
          "base_uri": "https://localhost:8080/",
          "height": 295
        },
        "id": "_mXjYzvFYF8p",
        "outputId": "ca7d040a-7315-4d24-f44c-bb995f7e90b1"
      },
      "source": [
        "data[21].value_counts(normalize=True).plot(kind='bar')\n",
        "plt.title(\"Percentage of Labels\")\n",
        "print(\"Data is not imbalanced\")\n",
        "# Same no of samples per class"
      ],
      "execution_count": 85,
      "outputs": [
        {
          "output_type": "stream",
          "text": [
            "Data is not imbalanced\n"
          ],
          "name": "stdout"
        },
        {
          "output_type": "display_data",
          "data": {
            "image/png": "[encoded data removed]",
            "text/plain": [
              "<Figure size 432x288 with 1 Axes>"
            ]
          },
          "metadata": {
            "tags": []
          }
        }
      ]
    },
    {
      "cell_type": "code",
      "metadata": {
        "execution": {
          "iopub.execute_input": "2020-12-12T14:24:55.562923Z",
          "iopub.status.busy": "2020-12-12T14:24:55.562639Z",
          "iopub.status.idle": "2020-12-12T14:24:55.566673Z",
          "shell.execute_reply": "2020-12-12T14:24:55.565919Z",
          "shell.execute_reply.started": "2020-12-12T14:24:55.562888Z"
        },
        "id": "PxvYCAAQYF8q"
      },
      "source": [
        "y=data.pop(21)\n",
        "#data=(data-data.mean())/data.std()"
      ],
      "execution_count": 86,
      "outputs": []
    },
    {
      "cell_type": "code",
      "metadata": {
        "execution": {
          "iopub.execute_input": "2020-12-13T01:05:30.886056Z",
          "iopub.status.busy": "2020-12-13T01:05:30.885841Z",
          "iopub.status.idle": "2020-12-13T01:05:30.891380Z",
          "shell.execute_reply": "2020-12-13T01:05:30.890758Z",
          "shell.execute_reply.started": "2020-12-13T01:05:30.886033Z"
        },
        "id": "auf_brTvYF8q"
      },
      "source": [
        "x_train,x_test,y_train,y_test = train_test_split(data,y,test_size=0.2,random_state=3)"
      ],
      "execution_count": 87,
      "outputs": []
    },
    {
      "cell_type": "markdown",
      "metadata": {
        "id": "UbSXuPKYYF8r"
      },
      "source": [
        "# KNN"
      ]
    },
    {
      "cell_type": "code",
      "metadata": {
        "execution": {
          "iopub.execute_input": "2020-12-13T01:07:40.491612Z",
          "iopub.status.busy": "2020-12-13T01:07:40.491212Z",
          "iopub.status.idle": "2020-12-13T01:07:40.507910Z",
          "shell.execute_reply": "2020-12-13T01:07:40.507429Z",
          "shell.execute_reply.started": "2020-12-13T01:07:40.491560Z"
        },
        "colab": {
          "base_uri": "https://localhost:8080/"
        },
        "id": "8yenoNMBYF8s",
        "outputId": "f8f9cfa5-a3ac-4e27-ae98-cae652b7571d"
      },
      "source": [
        "knn=KNeighborsClassifier(n_neighbors=56)\n",
        "knn.fit(x_train,y_train)"
      ],
      "execution_count": 88,
      "outputs": [
        {
          "output_type": "execute_result",
          "data": {
            "text/plain": [
              "KNeighborsClassifier(algorithm='auto', leaf_size=30, metric='minkowski',\n",
              "                     metric_params=None, n_jobs=None, n_neighbors=56, p=2,\n",
              "                     weights='uniform')"
            ]
          },
          "metadata": {
            "tags": []
          },
          "execution_count": 88
        }
      ]
    },
    {
      "cell_type": "code",
      "metadata": {
        "execution": {
          "iopub.execute_input": "2020-12-13T01:07:40.725387Z",
          "iopub.status.busy": "2020-12-13T01:07:40.725167Z",
          "iopub.status.idle": "2020-12-13T01:07:40.958664Z",
          "shell.execute_reply": "2020-12-13T01:07:40.957855Z",
          "shell.execute_reply.started": "2020-12-13T01:07:40.725362Z"
        },
        "colab": {
          "base_uri": "https://localhost:8080/"
        },
        "id": "aWi7joJ_YF8s",
        "outputId": "86fec55e-6432-44a9-a2a0-054c18b44165"
      },
      "source": [
        "accuracy_score(y_test,knn.predict(x_test))"
      ],
      "execution_count": 89,
      "outputs": [
        {
          "output_type": "execute_result",
          "data": {
            "text/plain": [
              "0.847"
            ]
          },
          "metadata": {
            "tags": []
          },
          "execution_count": 89
        }
      ]
    },
    {
      "cell_type": "markdown",
      "metadata": {
        "id": "k1GMQ7XOYF8t"
      },
      "source": [
        "# What I have Done\n",
        "> Divide the dataset in Train and test (4000 +1000).\n",
        "\n",
        "> Divide the Train set in cv=5 parts.\n",
        "> Choose any three out of the four (4C3) and then train KNN for [1....100] neighbours"
      ]
    },
    {
      "cell_type": "markdown",
      "metadata": {
        "id": "5GBzbPsfYF8u"
      },
      "source": [
        "## Tuning k using Cross-Validation"
      ]
    },
    {
      "cell_type": "code",
      "metadata": {
        "execution": {
          "iopub.execute_input": "2020-12-13T01:12:28.657115Z",
          "iopub.status.busy": "2020-12-13T01:12:28.656784Z",
          "iopub.status.idle": "2020-12-13T01:13:32.523241Z",
          "shell.execute_reply": "2020-12-13T01:13:32.522436Z",
          "shell.execute_reply.started": "2020-12-13T01:12:28.657077Z"
        },
        "id": "EmeqdBAvYF8u"
      },
      "source": [
        "from sklearn.model_selection import cross_val_score\n",
        "import seaborn as sns\n",
        "sns.set_style('darkgrid')\n",
        "k=list(range(1,100)) # List of all Neighbors \n",
        "accuracies=[]\n",
        "variances=[]\n",
        "# We are checking for every k the cross-validation accuracy.\n",
        "# Calculating Accuracy using Cross-Validation.\n",
        "for i in k:\n",
        "    c_v=cross_val_score(KNeighborsClassifier(n_neighbors=i),X=x_train,y=y_train,cv=5,scoring=\"accuracy\")\n",
        "    accuracies.append(np.mean(c_v))\n",
        "    variances.append(np.var(c_v))\n",
        "    del c_v"
      ],
      "execution_count": 90,
      "outputs": []
    },
    {
      "cell_type": "code",
      "metadata": {
        "execution": {
          "iopub.execute_input": "2020-12-13T01:25:58.413488Z",
          "iopub.status.busy": "2020-12-13T01:25:58.413259Z",
          "iopub.status.idle": "2020-12-13T01:25:58.975082Z",
          "shell.execute_reply": "2020-12-13T01:25:58.974407Z",
          "shell.execute_reply.started": "2020-12-13T01:25:58.413466Z"
        },
        "colab": {
          "base_uri": "https://localhost:8080/",
          "height": 350
        },
        "id": "8MEmZevfYF8u",
        "outputId": "3a67f945-61f8-494c-d2f9-a5a63e359d01"
      },
      "source": [
        "plt.figure(figsize=(10,5))\n",
        "sns.scatterplot(x=list(range(1,100)),y=accuracies)\n",
        "plt.xlabel('K-Neighbors')\n",
        "plt.ylabel(\"Accuracy\")\n",
        "plt.plot([56]*100,np.linspace(0.74,0.87,100),color='red',linestyle='--')\n",
        "plt.annotate(\"(56,0.86)\",xy=(56,0.858),xytext=(80,0.80),color='green',fontsize=20,arrowprops=dict(arrowstyle=\"->\",\n",
        "                            connectionstyle=\"arc3\",color='blue'))\n",
        "plt.plot(np.linspace(0,100,100),[0.86]*100,color='green',linestyle='--')\n",
        "plt.text(20,0.865,\"Bayesian Accuracy\",color='blue')\n",
        "plt.ylim(0.74,0.92)\n",
        "plt.title(\"Accuracy on Training Dataset for different values of k\")\n",
        "plt.savefig('knn.png') # Saving the png"
      ],
      "execution_count": 91,
      "outputs": [
        {
          "output_type": "display_data",
          "data": {
            "image/png": "[encoded data removed]",
            "text/plain": [
              "<Figure size 720x360 with 1 Axes>"
            ]
          },
          "metadata": {
            "tags": []
          }
        }
      ]
    },
    {
      "cell_type": "code",
      "metadata": {
        "execution": {
          "iopub.execute_input": "2020-12-13T01:16:45.498269Z",
          "iopub.status.busy": "2020-12-13T01:16:45.498039Z",
          "iopub.status.idle": "2020-12-13T01:16:45.807411Z",
          "shell.execute_reply": "2020-12-13T01:16:45.806798Z",
          "shell.execute_reply.started": "2020-12-13T01:16:45.498243Z"
        },
        "colab": {
          "base_uri": "https://localhost:8080/",
          "height": 367
        },
        "id": "YBWEazirYF8v",
        "outputId": "1edea37b-692a-494d-f9d7-e953e10a4f85"
      },
      "source": [
        "plt.figure(figsize=(10,5))\n",
        "sns.scatterplot(x=list(range(1,100)),y=variances)\n",
        "plt.xlabel('Neighbors')\n",
        "plt.ylabel(\"Accuracy\")\n",
        "#plt.plot([56]*100,np.linspace(0.74,0.87,100),color='red',linestyle='--')\n",
        "#plt.plot(np.linspace(0,100,100),[0.86]*100,color='green',linestyle='--')\n",
        "plt.ylim(0,0.0005)\n",
        "plt.title(\"Variances Accuracy on Waveforms Dataset for various k\")\n",
        "#plt.savefig('knn.png') # Saving the png"
      ],
      "execution_count": 92,
      "outputs": [
        {
          "output_type": "execute_result",
          "data": {
            "text/plain": [
              "Text(0.5, 1.0, 'Variances Accuracy on Waveforms Dataset for various k')"
            ]
          },
          "metadata": {
            "tags": []
          },
          "execution_count": 92
        },
        {
          "output_type": "display_data",
          "data": {
            "image/png": "[encoded data removed]",
            "text/plain": [
              "<Figure size 720x360 with 1 Axes>"
            ]
          },
          "metadata": {
            "tags": []
          }
        }
      ]
    },
    {
      "cell_type": "code",
      "metadata": {
        "execution": {
          "iopub.execute_input": "2020-11-24T20:09:41.742486Z",
          "iopub.status.busy": "2020-11-24T20:09:41.742272Z",
          "iopub.status.idle": "2020-11-24T20:09:41.746371Z",
          "shell.execute_reply": "2020-11-24T20:09:41.745681Z",
          "shell.execute_reply.started": "2020-11-24T20:09:41.742463Z"
        },
        "id": "JR68KYJVYF8w"
      },
      "source": [
        "history=pd.DataFrame({'Neighbours':k,'accuracies':accuracies})"
      ],
      "execution_count": 93,
      "outputs": []
    },
    {
      "cell_type": "code",
      "metadata": {
        "execution": {
          "iopub.execute_input": "2020-11-24T20:09:42.198161Z",
          "iopub.status.busy": "2020-11-24T20:09:42.197522Z",
          "iopub.status.idle": "2020-11-24T20:09:42.213017Z",
          "shell.execute_reply": "2020-11-24T20:09:42.212310Z",
          "shell.execute_reply.started": "2020-11-24T20:09:42.198086Z"
        },
        "colab": {
          "base_uri": "https://localhost:8080/",
          "height": 421
        },
        "id": "ry-f4E62YF8w",
        "outputId": "ecc379e9-51f9-46ba-9164-bb7cba9f849d"
      },
      "source": [
        "history[history['accuracies']>=0.86]"
      ],
      "execution_count": 94,
      "outputs": [
        {
          "output_type": "execute_result",
          "data": {
            "text/html": [
              "<div>\n",
              "<style scoped>\n",
              "    .dataframe tbody tr th:only-of-type {\n",
              "        vertical-align: middle;\n",
              "    }\n",
              "\n",
              "    .dataframe tbody tr th {\n",
              "        vertical-align: top;\n",
              "    }\n",
              "\n",
              "    .dataframe thead th {\n",
              "        text-align: right;\n",
              "    }\n",
              "</style>\n",
              "<table border=\"1\" class=\"dataframe\">\n",
              "  <thead>\n",
              "    <tr style=\"text-align: right;\">\n",
              "      <th></th>\n",
              "      <th>Neighbours</th>\n",
              "      <th>accuracies</th>\n",
              "    </tr>\n",
              "  </thead>\n",
              "  <tbody>\n",
              "    <tr>\n",
              "      <th>83</th>\n",
              "      <td>84</td>\n",
              "      <td>0.86025</td>\n",
              "    </tr>\n",
              "    <tr>\n",
              "      <th>87</th>\n",
              "      <td>88</td>\n",
              "      <td>0.86100</td>\n",
              "    </tr>\n",
              "    <tr>\n",
              "      <th>89</th>\n",
              "      <td>90</td>\n",
              "      <td>0.86100</td>\n",
              "    </tr>\n",
              "    <tr>\n",
              "      <th>90</th>\n",
              "      <td>91</td>\n",
              "      <td>0.86050</td>\n",
              "    </tr>\n",
              "    <tr>\n",
              "      <th>91</th>\n",
              "      <td>92</td>\n",
              "      <td>0.86150</td>\n",
              "    </tr>\n",
              "    <tr>\n",
              "      <th>92</th>\n",
              "      <td>93</td>\n",
              "      <td>0.86100</td>\n",
              "    </tr>\n",
              "    <tr>\n",
              "      <th>93</th>\n",
              "      <td>94</td>\n",
              "      <td>0.86200</td>\n",
              "    </tr>\n",
              "    <tr>\n",
              "      <th>94</th>\n",
              "      <td>95</td>\n",
              "      <td>0.86275</td>\n",
              "    </tr>\n",
              "    <tr>\n",
              "      <th>95</th>\n",
              "      <td>96</td>\n",
              "      <td>0.86200</td>\n",
              "    </tr>\n",
              "    <tr>\n",
              "      <th>96</th>\n",
              "      <td>97</td>\n",
              "      <td>0.86075</td>\n",
              "    </tr>\n",
              "    <tr>\n",
              "      <th>97</th>\n",
              "      <td>98</td>\n",
              "      <td>0.86150</td>\n",
              "    </tr>\n",
              "    <tr>\n",
              "      <th>98</th>\n",
              "      <td>99</td>\n",
              "      <td>0.86175</td>\n",
              "    </tr>\n",
              "  </tbody>\n",
              "</table>\n",
              "</div>"
            ],
            "text/plain": [
              "    Neighbours  accuracies\n",
              "83          84     0.86025\n",
              "87          88     0.86100\n",
              "89          90     0.86100\n",
              "90          91     0.86050\n",
              "91          92     0.86150\n",
              "92          93     0.86100\n",
              "93          94     0.86200\n",
              "94          95     0.86275\n",
              "95          96     0.86200\n",
              "96          97     0.86075\n",
              "97          98     0.86150\n",
              "98          99     0.86175"
            ]
          },
          "metadata": {
            "tags": []
          },
          "execution_count": 94
        }
      ]
    },
    {
      "cell_type": "markdown",
      "metadata": {
        "id": "eoFcXVFOYF8x"
      },
      "source": [
        "# Bias Variance Trade Off\n",
        "\n",
        "> We will analyze how bias and variance changes with the value of K and the number of training examples"
      ]
    },
    {
      "cell_type": "code",
      "metadata": {
        "execution": {
          "iopub.execute_input": "2020-12-12T14:57:43.556032Z",
          "iopub.status.busy": "2020-12-12T14:57:43.555786Z",
          "iopub.status.idle": "2020-12-12T15:00:00.784729Z",
          "shell.execute_reply": "2020-12-12T15:00:00.784023Z",
          "shell.execute_reply.started": "2020-12-12T14:57:43.556005Z"
        },
        "id": "1XHZmfToYF8x"
      },
      "source": [
        "training_examples=[100,200,500,1000,3000,3500] #Number of Training Examples\n",
        "K=list(range(2,70)) # list of neighbors\n",
        "TrainScore=[] #train scores for all training examples\n",
        "TestScore=[] #test scores for all hypothesis trained on all te\n",
        "\n",
        "for te in training_examples:\n",
        "    train_te_score=[] # Train score for running te\n",
        "    test_te_score=[] # Test score for hypothesis trained on running te\n",
        "    for nb in K:\n",
        "        knn=KNeighborsClassifier(n_neighbors=nb)\n",
        "        temp_data=x_train.sample(te) # random sample\n",
        "        temp_y=y_train.loc[temp_data.index] # Corresponding Labels\n",
        "        \"\"\"test_data=x_test.sample(te)\n",
        "        test_y=y_test.loc[test_data.index]\"\"\"\n",
        "        #Fitting the Model\n",
        "        knn.fit(temp_data,temp_y)\n",
        "        \n",
        "        train_te_score.append(accuracy_score(temp_y,knn.predict(temp_data)))\n",
        "        test_te_score.append(accuracy_score(y_test,knn.predict(x_test)))\n",
        "        \n",
        "        del temp_data,temp_y,knn\n",
        "    \n",
        "    TrainScore.append(train_te_score)\n",
        "    TestScore.append(test_te_score)"
      ],
      "execution_count": 95,
      "outputs": []
    },
    {
      "cell_type": "markdown",
      "metadata": {
        "id": "QEyY3tyDYF8y"
      },
      "source": [
        "# Observation of the following Plots\n",
        "\n",
        "> Increasing the size of training samples \n",
        "1. Reduces the chance of overfitting.\n",
        "2. $ \\text{It proves}"
      ]
    },
    {
      "cell_type": "code",
      "metadata": {
        "execution": {
          "iopub.execute_input": "2020-12-12T15:13:50.412824Z",
          "iopub.status.busy": "2020-12-12T15:13:50.412567Z",
          "iopub.status.idle": "2020-12-12T15:13:52.309858Z",
          "shell.execute_reply": "2020-12-12T15:13:52.309336Z",
          "shell.execute_reply.started": "2020-12-12T15:13:50.412787Z"
        },
        "colab": {
          "base_uri": "https://localhost:8080/",
          "height": 513
        },
        "id": "b-QjbX_hYF8y",
        "outputId": "934bf0b3-e678-488d-abf4-fd954d9be89e"
      },
      "source": [
        "plt.figure(figsize=(8,8))\n",
        "for i in range(len(TrainScore)):\n",
        "    if i==0 or i==len(TrainScore)-1:\n",
        "      plt.plot(K,[1-j for j in TrainScore[i]])\n",
        "      plt.plot(K,[1-j for j in TestScore[i]])\n",
        "      plt.xlabel(\"Neighbors\")\n",
        "      plt.ylabel(\"Accuracy\")\n",
        "plt.plot(K,[0.14]*len(K),color='red',linestyle='-.',linewidth=3,alpha=0.74)\n",
        "plt.legend([\"Train Error (100)\",\"Test Error(100)\",\"Train Error (3500)\",\"Test Error(3500)\",\"Bayes Error\"])\n",
        "plt.title(f\"Train and Test Accuracy for training sample size 100 and 3500\")\n",
        "plt.ylim()\n",
        "plt.annotate(\"Bayes Error(0.14)\",xy=(30,0.14),xytext=(30,0.35),color='green',fontsize=14,arrowprops=dict(arrowstyle=\"->\",\n",
        "                              connectionstyle=\"arc3\",color='black',linewidth='4',linestyle='--'))\n",
        "plt.savefig(f\"knn_train_test.png\")"
      ],
      "execution_count": 96,
      "outputs": [
        {
          "output_type": "display_data",
          "data": {
            "image/png": "[encoded data removed]",
            "text/plain": [
              "<Figure size 576x576 with 1 Axes>"
            ]
          },
          "metadata": {
            "tags": []
          }
        }
      ]
    },
    {
      "cell_type": "markdown",
      "metadata": {
        "id": "Dm7_XpssYF8z"
      },
      "source": [
        "# Observation of the following Plots\n",
        "\n",
        "> First plot :  High Bias and Low Variance (Overfitting).\n",
        "\n",
        "> Next Plots: as we increase the training samples, bias and variance curve smooths down."
      ]
    },
    {
      "cell_type": "code",
      "metadata": {
        "execution": {
          "iopub.execute_input": "2020-12-12T15:19:25.047345Z",
          "iopub.status.busy": "2020-12-12T15:19:25.047085Z",
          "iopub.status.idle": "2020-12-12T15:19:26.573409Z",
          "shell.execute_reply": "2020-12-12T15:19:26.572311Z",
          "shell.execute_reply.started": "2020-12-12T15:19:25.047315Z"
        },
        "colab": {
          "base_uri": "https://localhost:8080/",
          "height": 513
        },
        "id": "Q1oeRC4-YF8z",
        "outputId": "50245a99-b675-4b8c-e24f-d403ad377b47"
      },
      "source": [
        "Bias=1-np.array(TrainScore)\n",
        "Variance=(np.array(TrainScore)-np.array(TestScore))**2\n",
        "plt.figure(figsize=(8,8))\n",
        "for i in range(len(TrainScore)):\n",
        "  if i==0 or i==len(TrainScore)-1:\n",
        "    plt.plot(K,Bias[i],alpha=min(1,0.3+i/10))\n",
        "    plt.plot(K,Variance[i],alpha=min(1,0.3+i/10))\n",
        "plt.plot(K,[0.14]*len(K),color='brown',linestyle='-.',linewidth=2)\n",
        "plt.text(30,0.15,\"Bayes Error\",color='brown')\n",
        "plt.legend([\"Bias 100\",\"Variance 100\",'Bias 3500','Variance 3500','Bayes Error'])\n",
        "plt.title(f\"Bias-Variance when training sample size is 100 and 3500\")\n",
        "plt.ylim(0,0.4)\n",
        "plt.xlabel(\"Neighbors\")\n",
        "plt.ylabel(\"Value\")\n",
        "plt.savefig(f'knn_bias')"
      ],
      "execution_count": 97,
      "outputs": [
        {
          "output_type": "display_data",
          "data": {
            "image/png": "[encoded data removed]",
            "text/plain": [
              "<Figure size 576x576 with 1 Axes>"
            ]
          },
          "metadata": {
            "tags": []
          }
        }
      ]
    },
    {
      "cell_type": "markdown",
      "metadata": {
        "execution": {
          "iopub.execute_input": "2020-12-02T20:28:27.752441Z",
          "iopub.status.busy": "2020-12-02T20:28:27.752193Z",
          "iopub.status.idle": "2020-12-02T20:28:27.758158Z",
          "shell.execute_reply": "2020-12-02T20:28:27.757170Z",
          "shell.execute_reply.started": "2020-12-02T20:28:27.752415Z"
        },
        "id": "rP-zgNhBYF80"
      },
      "source": [
        "# Reducing Training Examples By CNN and RNN\n",
        "> Condensed Nearest Neighbor and Reduced Nearest Neighbors"
      ]
    },
    {
      "cell_type": "code",
      "metadata": {
        "execution": {
          "iopub.execute_input": "2020-12-13T00:53:12.478285Z",
          "iopub.status.busy": "2020-12-13T00:53:12.477996Z",
          "iopub.status.idle": "2020-12-13T00:54:02.448527Z",
          "shell.execute_reply": "2020-12-13T00:54:02.447449Z",
          "shell.execute_reply.started": "2020-12-13T00:53:12.478258Z"
        },
        "id": "VNu5BddVYF80"
      },
      "source": [
        "cnn=CondensedNearestNeighbour(n_seeds_S=4,n_neighbors=1,random_state=0)\n",
        "x_cnn,y_cnn=cnn.fit_resample(x_train,y_train)"
      ],
      "execution_count": 98,
      "outputs": []
    },
    {
      "cell_type": "code",
      "metadata": {
        "id": "uFvqnH1UZ01j"
      },
      "source": [
        "x_cnn=pd.DataFrame(x_cnn)\n",
        "y_cnn=pd.DataFrame(y_cnn)"
      ],
      "execution_count": 99,
      "outputs": []
    },
    {
      "cell_type": "code",
      "metadata": {
        "execution": {
          "iopub.execute_input": "2020-12-13T00:54:02.450115Z",
          "iopub.status.busy": "2020-12-13T00:54:02.449856Z",
          "iopub.status.idle": "2020-12-13T00:54:02.459830Z",
          "shell.execute_reply": "2020-12-13T00:54:02.459246Z",
          "shell.execute_reply.started": "2020-12-13T00:54:02.450082Z"
        },
        "colab": {
          "base_uri": "https://localhost:8080/"
        },
        "id": "u_h4zAT_YF81",
        "outputId": "3b9e0f0c-74f3-4f3b-c14b-4e930905fa19"
      },
      "source": [
        "knn_cnn=KNeighborsClassifier(n_neighbors=30)\n",
        "knn_cnn.fit(x_cnn,y_cnn)"
      ],
      "execution_count": 100,
      "outputs": [
        {
          "output_type": "stream",
          "text": [
            "/usr/local/lib/python3.6/dist-packages/ipykernel_launcher.py:2: DataConversionWarning: A column-vector y was passed when a 1d array was expected. Please change the shape of y to (n_samples, ), for example using ravel().\n",
            "  \n"
          ],
          "name": "stderr"
        },
        {
          "output_type": "execute_result",
          "data": {
            "text/plain": [
              "KNeighborsClassifier(algorithm='auto', leaf_size=30, metric='minkowski',\n",
              "                     metric_params=None, n_jobs=None, n_neighbors=30, p=2,\n",
              "                     weights='uniform')"
            ]
          },
          "metadata": {
            "tags": []
          },
          "execution_count": 100
        }
      ]
    },
    {
      "cell_type": "code",
      "metadata": {
        "execution": {
          "iopub.execute_input": "2020-12-12T15:24:44.057067Z",
          "iopub.status.busy": "2020-12-12T15:24:44.056737Z",
          "iopub.status.idle": "2020-12-12T15:24:44.271587Z",
          "shell.execute_reply": "2020-12-12T15:24:44.271080Z",
          "shell.execute_reply.started": "2020-12-12T15:24:44.057036Z"
        },
        "colab": {
          "base_uri": "https://localhost:8080/"
        },
        "id": "aCh7jehzYF82",
        "outputId": "db814b84-7325-418f-8a25-979e78daf8a9"
      },
      "source": [
        "accuracy_score(y_cnn,knn_cnn.predict(x_cnn))"
      ],
      "execution_count": 101,
      "outputs": [
        {
          "output_type": "execute_result",
          "data": {
            "text/plain": [
              "0.8182305630026809"
            ]
          },
          "metadata": {
            "tags": []
          },
          "execution_count": 101
        }
      ]
    },
    {
      "cell_type": "code",
      "metadata": {
        "execution": {
          "iopub.execute_input": "2020-12-12T15:24:44.316370Z",
          "iopub.status.busy": "2020-12-12T15:24:44.316072Z",
          "iopub.status.idle": "2020-12-12T15:24:44.450938Z",
          "shell.execute_reply": "2020-12-12T15:24:44.450137Z",
          "shell.execute_reply.started": "2020-12-12T15:24:44.316333Z"
        },
        "colab": {
          "base_uri": "https://localhost:8080/"
        },
        "id": "c9zkzhmiYF83",
        "outputId": "9576ebe3-32b0-4a4a-c17f-08481f75525a"
      },
      "source": [
        "accuracy_score(y_test,knn_cnn.predict(x_test))"
      ],
      "execution_count": 102,
      "outputs": [
        {
          "output_type": "execute_result",
          "data": {
            "text/plain": [
              "0.806"
            ]
          },
          "metadata": {
            "tags": []
          },
          "execution_count": 102
        }
      ]
    },
    {
      "cell_type": "code",
      "metadata": {
        "execution": {
          "iopub.execute_input": "2020-12-12T15:26:02.303640Z",
          "iopub.status.busy": "2020-12-12T15:26:02.303417Z",
          "iopub.status.idle": "2020-12-12T15:26:28.902640Z",
          "shell.execute_reply": "2020-12-12T15:26:28.901960Z",
          "shell.execute_reply.started": "2020-12-12T15:26:02.303605Z"
        },
        "id": "CW8iXTF-YF83"
      },
      "source": [
        "from sklearn.model_selection import cross_val_score\n",
        "import seaborn as sns\n",
        "sns.set_style('darkgrid')\n",
        "k=list(range(1,100)) # List of all Neighbors \n",
        "accuracies_cnn=[]\n",
        "# We are checking for every k the cross-validation accuracy.\n",
        "# Calculating Accuracy using Cross-Validation.\n",
        "for i in k:\n",
        "    c_v=cross_val_score(KNeighborsClassifier(n_neighbors=i),X=x_cnn.values,y=y_cnn.values.reshape(-1),cv=5,scoring=\"accuracy\")\n",
        "    accuracies_cnn.append(np.mean(c_v))\n",
        "    del c_v"
      ],
      "execution_count": 103,
      "outputs": []
    },
    {
      "cell_type": "code",
      "metadata": {
        "id": "W0YAmspxbfZc"
      },
      "source": [
        ""
      ],
      "execution_count": 103,
      "outputs": []
    },
    {
      "cell_type": "code",
      "metadata": {
        "id": "gpRxk7OckdKn"
      },
      "source": [
        ""
      ],
      "execution_count": 103,
      "outputs": []
    },
    {
      "cell_type": "code",
      "metadata": {
        "execution": {
          "iopub.execute_input": "2020-12-12T15:26:40.473630Z",
          "iopub.status.busy": "2020-12-12T15:26:40.473265Z",
          "iopub.status.idle": "2020-12-12T15:26:40.867140Z",
          "shell.execute_reply": "2020-12-12T15:26:40.866451Z",
          "shell.execute_reply.started": "2020-12-12T15:26:40.473572Z"
        },
        "colab": {
          "base_uri": "https://localhost:8080/",
          "height": 350
        },
        "id": "_KMFltGEYF84",
        "outputId": "2c0bb6f6-1864-4264-a2c0-7950da1a4179"
      },
      "source": [
        "plt.figure(figsize=(10,5))\n",
        "sns.scatterplot(x=list(range(1,100)),y=accuracies_cnn)\n",
        "plt.xlabel('Nearest Neighbors')\n",
        "plt.ylabel(\"Accuracy\")\n",
        "plt.plot([30]*100,np.linspace(0.74,0.86,100),color='red',linestyle='--')\n",
        "plt.plot(np.linspace(0,100,100),[0.86]*100,color='green',linestyle='--')\n",
        "plt.text(20,0.865,\"Bayesian Accuracy\",color='green')\n",
        "plt.text(33,0.82,\"Optimal Neighbor\",color='red')\n",
        "plt.ylim(0.74,0.89)\n",
        "plt.title(\"Accuracy on Training Dataset for various k using CNN\")\n",
        "plt.savefig('cnn.png') # Saving the png"
      ],
      "execution_count": 104,
      "outputs": [
        {
          "output_type": "display_data",
          "data": {
            "image/png": "[encoded data removed]",
            "text/plain": [
              "<Figure size 720x360 with 1 Axes>"
            ]
          },
          "metadata": {
            "tags": []
          }
        }
      ]
    },
    {
      "cell_type": "code",
      "metadata": {
        "id": "KXepf7ybdA6v"
      },
      "source": [
        ""
      ],
      "execution_count": 104,
      "outputs": []
    },
    {
      "cell_type": "code",
      "metadata": {
        "colab": {
          "base_uri": "https://localhost:8080/"
        },
        "id": "LKj4NdP8k10q",
        "outputId": "f7244785-ac56-4d5f-9d07-8c86ced1c9a1"
      },
      "source": [
        "from sklearn.metrics import f1_score\n",
        "\n",
        "f1_score(y_test,knn_cnn.predict(x_test),average='micro')"
      ],
      "execution_count": 105,
      "outputs": [
        {
          "output_type": "execute_result",
          "data": {
            "text/plain": [
              "0.806"
            ]
          },
          "metadata": {
            "tags": []
          },
          "execution_count": 105
        }
      ]
    },
    {
      "cell_type": "code",
      "metadata": {
        "execution": {
          "iopub.execute_input": "2020-12-13T01:39:32.221808Z",
          "iopub.status.busy": "2020-12-13T01:39:32.221411Z",
          "iopub.status.idle": "2020-12-13T01:39:32.317976Z",
          "shell.execute_reply": "2020-12-13T01:39:32.317366Z",
          "shell.execute_reply.started": "2020-12-13T01:39:32.221750Z"
        },
        "colab": {
          "base_uri": "https://localhost:8080/"
        },
        "id": "S-PcajU9YF84",
        "outputId": "ceb3f084-cd40-4617-aaa2-a1abc4eb2918"
      },
      "source": [
        "y_cnn.value_counts()"
      ],
      "execution_count": 107,
      "outputs": [
        {
          "output_type": "execute_result",
          "data": {
            "text/plain": [
              "1    1324\n",
              "0     304\n",
              "2     237\n",
              "dtype: int64"
            ]
          },
          "metadata": {
            "tags": []
          },
          "execution_count": 107
        }
      ]
    },
    {
      "cell_type": "code",
      "metadata": {
        "execution": {
          "iopub.execute_input": "2020-12-13T01:40:14.386842Z",
          "iopub.status.busy": "2020-12-13T01:40:14.386163Z",
          "iopub.status.idle": "2020-12-13T01:40:14.395624Z",
          "shell.execute_reply": "2020-12-13T01:40:14.394289Z",
          "shell.execute_reply.started": "2020-12-13T01:40:14.386762Z"
        },
        "colab": {
          "base_uri": "https://localhost:8080/"
        },
        "id": "zHikkzCeYF85",
        "outputId": "fad6d642-e47c-4abb-ba4e-5a4329d757b9"
      },
      "source": [
        "len(x_cnn)"
      ],
      "execution_count": 108,
      "outputs": [
        {
          "output_type": "execute_result",
          "data": {
            "text/plain": [
              "1865"
            ]
          },
          "metadata": {
            "tags": []
          },
          "execution_count": 108
        }
      ]
    },
    {
      "cell_type": "code",
      "metadata": {
        "execution": {
          "iopub.execute_input": "2020-12-13T01:40:17.388053Z",
          "iopub.status.busy": "2020-12-13T01:40:17.387786Z",
          "iopub.status.idle": "2020-12-13T01:40:17.391359Z",
          "shell.execute_reply": "2020-12-13T01:40:17.390827Z",
          "shell.execute_reply.started": "2020-12-13T01:40:17.388029Z"
        },
        "colab": {
          "base_uri": "https://localhost:8080/"
        },
        "id": "EIfa8No5YF85",
        "outputId": "c5ceda88-31bc-4c8d-9485-aff0fe74f6dc"
      },
      "source": [
        "print(f\"After using CNN , reduction in data was {1-(len(x_cnn)/4000)}\")"
      ],
      "execution_count": 109,
      "outputs": [
        {
          "output_type": "stream",
          "text": [
            "After using CNN , reduction in data was 0.53375\n"
          ],
          "name": "stdout"
        }
      ]
    },
    {
      "cell_type": "markdown",
      "metadata": {
        "id": "QoNUfiMgYF85"
      },
      "source": [
        "# Reduced Nearest Neighbors\n",
        "\n",
        "> Based upon https://citeseerx.ist.psu.edu/viewdoc/download?doi=10.1.1.294.4537&rep=rep1&type=pdf"
      ]
    },
    {
      "cell_type": "code",
      "metadata": {
        "execution": {
          "iopub.execute_input": "2020-12-13T01:53:31.082321Z",
          "iopub.status.busy": "2020-12-13T01:53:31.082051Z",
          "iopub.status.idle": "2020-12-13T01:53:31.087793Z",
          "shell.execute_reply": "2020-12-13T01:53:31.086086Z",
          "shell.execute_reply.started": "2020-12-13T01:53:31.082291Z"
        },
        "id": "Dip-upf_YF86"
      },
      "source": [
        "knn_1=KNeighborsClassifier(n_neighbors=1)"
      ],
      "execution_count": 110,
      "outputs": []
    },
    {
      "cell_type": "code",
      "metadata": {
        "execution": {
          "iopub.execute_input": "2020-12-13T01:53:45.848043Z",
          "iopub.status.busy": "2020-12-13T01:53:45.847460Z",
          "iopub.status.idle": "2020-12-13T01:53:45.963033Z",
          "shell.execute_reply": "2020-12-13T01:53:45.962303Z",
          "shell.execute_reply.started": "2020-12-13T01:53:45.847991Z"
        },
        "colab": {
          "base_uri": "https://localhost:8080/"
        },
        "id": "im-YqbOoYF86",
        "outputId": "f2083302-89e3-43b4-aedb-89ba22723115"
      },
      "source": [
        "knn_1.fit(x_train,y_train)"
      ],
      "execution_count": 111,
      "outputs": [
        {
          "output_type": "execute_result",
          "data": {
            "text/plain": [
              "KNeighborsClassifier(algorithm='auto', leaf_size=30, metric='minkowski',\n",
              "                     metric_params=None, n_jobs=None, n_neighbors=1, p=2,\n",
              "                     weights='uniform')"
            ]
          },
          "metadata": {
            "tags": []
          },
          "execution_count": 111
        }
      ]
    },
    {
      "cell_type": "code",
      "metadata": {
        "execution": {
          "iopub.execute_input": "2020-12-13T01:54:44.344684Z",
          "iopub.status.busy": "2020-12-13T01:54:44.344306Z",
          "iopub.status.idle": "2020-12-13T01:54:44.361887Z",
          "shell.execute_reply": "2020-12-13T01:54:44.361274Z",
          "shell.execute_reply.started": "2020-12-13T01:54:44.344643Z"
        },
        "id": "9qDUZ5dMYF86"
      },
      "source": [
        "def ReducedNearestNeighbors(data,label):\n",
        "    total_index=list(data.index)\n",
        "    \n",
        "    for i,dt in enumerate(total_index):\n",
        "        knn_1=KNeighborsClassifier(n_neighbors=1)\n",
        "        knn_1.fit(data.drop(dt),label.drop(dt).values.reshape(-1)) # Removing the first datapoint.\n",
        "        \n",
        "        if accuracy_score(label,knn_1.predict(data))==1:\n",
        "            data=data.drop(dt)\n",
        "            label=label.drop(dt)\n",
        "    return data,label"
      ],
      "execution_count": 112,
      "outputs": []
    },
    {
      "cell_type": "code",
      "metadata": {
        "execution": {
          "iopub.execute_input": "2020-12-13T01:55:04.612289Z",
          "iopub.status.busy": "2020-12-13T01:55:04.611939Z"
        },
        "id": "nd_NPxRQYF87"
      },
      "source": [
        "x_rnn,y_rnn=ReducedNearestNeighbors(x_cnn,y_cnn)"
      ],
      "execution_count": 113,
      "outputs": []
    },
    {
      "cell_type": "code",
      "metadata": {
        "colab": {
          "base_uri": "https://localhost:8080/"
        },
        "id": "mVHpcapxYF87",
        "outputId": "20e8bd8e-afb8-439b-e4d2-a7e898cc0896"
      },
      "source": [
        "(len(y_train)-len(x_rnn))/4000"
      ],
      "execution_count": 114,
      "outputs": [
        {
          "output_type": "execute_result",
          "data": {
            "text/plain": [
              "0.8215"
            ]
          },
          "metadata": {
            "tags": []
          },
          "execution_count": 114
        }
      ]
    },
    {
      "cell_type": "code",
      "metadata": {
        "colab": {
          "base_uri": "https://localhost:8080/"
        },
        "id": "dwld27jaYF87",
        "outputId": "af5cb769-5ee1-4dab-a4c1-76717dc40f23"
      },
      "source": [
        "y_rnn.value_counts()"
      ],
      "execution_count": 115,
      "outputs": [
        {
          "output_type": "execute_result",
          "data": {
            "text/plain": [
              "1    335\n",
              "0    247\n",
              "2    132\n",
              "dtype: int64"
            ]
          },
          "metadata": {
            "tags": []
          },
          "execution_count": 115
        }
      ]
    },
    {
      "cell_type": "code",
      "metadata": {
        "id": "14wJtTlHEDRk"
      },
      "source": [
        "x_train,x_test,y_train,y_test=train_test_split(data,y,test_size=1000,random_state=12)"
      ],
      "execution_count": 116,
      "outputs": []
    },
    {
      "cell_type": "code",
      "metadata": {
        "colab": {
          "base_uri": "https://localhost:8080/"
        },
        "id": "aJyXiDUYYF88",
        "outputId": "3c350ffc-1215-4de6-8b72-3a98036a1e8b"
      },
      "source": [
        "rnn=KNeighborsClassifier(n_neighbors=56)\n",
        "rnn.fit(x_rnn,y_rnn)"
      ],
      "execution_count": 117,
      "outputs": [
        {
          "output_type": "stream",
          "text": [
            "/usr/local/lib/python3.6/dist-packages/ipykernel_launcher.py:2: DataConversionWarning: A column-vector y was passed when a 1d array was expected. Please change the shape of y to (n_samples, ), for example using ravel().\n",
            "  \n"
          ],
          "name": "stderr"
        },
        {
          "output_type": "execute_result",
          "data": {
            "text/plain": [
              "KNeighborsClassifier(algorithm='auto', leaf_size=30, metric='minkowski',\n",
              "                     metric_params=None, n_jobs=None, n_neighbors=56, p=2,\n",
              "                     weights='uniform')"
            ]
          },
          "metadata": {
            "tags": []
          },
          "execution_count": 117
        }
      ]
    },
    {
      "cell_type": "code",
      "metadata": {
        "colab": {
          "base_uri": "https://localhost:8080/"
        },
        "id": "O6683dihCfqy",
        "outputId": "bb7835aa-93af-4279-fce6-5b41c063e9f4"
      },
      "source": [
        "accuracy_score(y_test,rnn.predict(x_test))"
      ],
      "execution_count": 118,
      "outputs": [
        {
          "output_type": "execute_result",
          "data": {
            "text/plain": [
              "0.807"
            ]
          },
          "metadata": {
            "tags": []
          },
          "execution_count": 118
        }
      ]
    },
    {
      "cell_type": "code",
      "metadata": {
        "colab": {
          "base_uri": "https://localhost:8080/"
        },
        "id": "JzhHy_5vFizO",
        "outputId": "7a40d073-d743-4cf5-853c-22f91f523be2"
      },
      "source": [
        "accuracy_score(y_cnn,rnn.predict(x_cnn))"
      ],
      "execution_count": 119,
      "outputs": [
        {
          "output_type": "execute_result",
          "data": {
            "text/plain": [
              "0.7876675603217158"
            ]
          },
          "metadata": {
            "tags": []
          },
          "execution_count": 119
        }
      ]
    },
    {
      "cell_type": "code",
      "metadata": {
        "id": "cnXsE8SnYF88"
      },
      "source": [
        "accuracies_rnn_test=[]\n",
        "accuracies_rnn_train=[]\n",
        "k=list(range(1,100))\n",
        "for i in k:\n",
        "  rnn_test=KNeighborsClassifier(n_neighbors=i)\n",
        "  rnn_test.fit(x_rnn.values,y_rnn.values.reshape(-1))\n",
        "  accuracies_rnn_train.append(accuracy_score(y_rnn,rnn_test.predict(x_rnn)))\n",
        "  accuracies_rnn_test.append(accuracy_score(y_test,rnn_test.predict(x_test)))"
      ],
      "execution_count": 120,
      "outputs": []
    },
    {
      "cell_type": "code",
      "metadata": {
        "id": "DSGU1UDWYF88"
      },
      "source": [
        "from sklearn.model_selection import cross_val_score\n",
        "import seaborn as sns\n",
        "sns.set_style('darkgrid')\n",
        "k=list(range(1,100)) # List of all Neighbors \n",
        "accuracies_rnn=[]\n",
        "variances_rnn=[]\n",
        "# We are checking for every k the cross-validation accuracy.\n",
        "# Calculating Accuracy using Cross-Validation.\n",
        "for i in k:\n",
        "    c_v=cross_val_score(KNeighborsClassifier(n_neighbors=i),X=x_rnn.values,y=y_rnn.values.reshape(-1),cv=5,scoring=\"accuracy\")\n",
        "    accuracies_rnn.append(np.mean(c_v))\n",
        "    variances_rnn.append(np.std(c_v))\n",
        "    del c_v"
      ],
      "execution_count": 121,
      "outputs": []
    },
    {
      "cell_type": "code",
      "metadata": {
        "colab": {
          "base_uri": "https://localhost:8080/"
        },
        "id": "IksBp7tMDP-c",
        "outputId": "e8b6859c-8cfd-435d-ad86-802902bf0da8"
      },
      "source": [
        "accuracies_rnn_test[18]"
      ],
      "execution_count": 122,
      "outputs": [
        {
          "output_type": "execute_result",
          "data": {
            "text/plain": [
              "0.837"
            ]
          },
          "metadata": {
            "tags": []
          },
          "execution_count": 122
        }
      ]
    },
    {
      "cell_type": "code",
      "metadata": {
        "colab": {
          "base_uri": "https://localhost:8080/",
          "height": 350
        },
        "id": "8zn03TbblDAx",
        "outputId": "68251c84-694d-4614-8c50-359b231a77e0"
      },
      "source": [
        "plt.figure(figsize=(10,5))\n",
        "sns.scatterplot(x=list(range(1,100)),y=accuracies_rnn_test)\n",
        "#sns.scatterplot(x=list(range(1,100)),y=accuracies_rnn_train)\n",
        "sns.scatterplot([19],[0.814],color='red')\n",
        "plt.xlabel('Neighbors')\n",
        "plt.ylabel(\"Value\")\n",
        "plt.text(40,0.76,'Test Accuracy',color='blue')\n",
        "plt.plot(np.linspace(0,100,100),[0.86]*100,color='green',linestyle='--')\n",
        "plt.text(41,0.87,'Bayesian Accuracy',color='green')\n",
        "plt.ylim(0.6,0.9)\n",
        "plt.title(\"Accuracy on Test Dataset for various k using Reduced Nearest Neighbors\")\n",
        "plt.savefig('rnn.png') # Saving the png"
      ],
      "execution_count": 123,
      "outputs": [
        {
          "output_type": "display_data",
          "data": {
            "image/png": "[encoded data removed]",
            "text/plain": [
              "<Figure size 720x360 with 1 Axes>"
            ]
          },
          "metadata": {
            "tags": []
          }
        }
      ]
    },
    {
      "cell_type": "code",
      "metadata": {
        "id": "yyUtAYpF3t8x"
      },
      "source": [
        ""
      ],
      "execution_count": 123,
      "outputs": []
    },
    {
      "cell_type": "markdown",
      "metadata": {
        "id": "Gep7_I7NYF8_"
      },
      "source": [
        "# Generating Aritificial Imbalancy"
      ]
    },
    {
      "cell_type": "code",
      "metadata": {
        "execution": {
          "iopub.execute_input": "2020-12-10T14:11:49.750061Z",
          "iopub.status.busy": "2020-12-10T14:11:49.749724Z",
          "iopub.status.idle": "2020-12-10T14:11:49.757895Z",
          "shell.execute_reply": "2020-12-10T14:11:49.757235Z",
          "shell.execute_reply.started": "2020-12-10T14:11:49.750025Z"
        },
        "id": "hjd-Jnd_YF8_"
      },
      "source": [
        "def smote(train_data,label_data,label):\n",
        "    index=list(label_data[label_data==label].index)\n",
        "    knn=KNeighborsClassifier()\n",
        "    knn.fit(train_data,label_data)\n",
        "    data_train=train_data\n",
        "    data_y=label_data\n",
        "    for i in range(200):\n",
        "        temp=train_data[train_data.index==np.random.choice(index)]# Get any random value\n",
        "        distance,neighbor=knn.kneighbors(temp,n_neighbors=10)[0:2]\n",
        "        distance=distance[0][1:]\n",
        "        neighbor=neighbor[0][1:]\n",
        "        for n in neighbor:\n",
        "             if label_data.iloc[n]==label:\n",
        "                    ex_1=(temp+train_data.iloc[n])/2\n",
        "                    data_train=pd.concat([data_train,ex_1])\n",
        "                    data_y=pd.concat([data_y,pd.Series(label)])\n",
        "    return data_train,data_y"
      ],
      "execution_count": 124,
      "outputs": []
    },
    {
      "cell_type": "code",
      "metadata": {
        "execution": {
          "iopub.execute_input": "2020-12-10T14:11:50.169683Z",
          "iopub.status.busy": "2020-12-10T14:11:50.169402Z",
          "iopub.status.idle": "2020-12-10T14:11:52.535896Z",
          "shell.execute_reply": "2020-12-10T14:11:52.535079Z",
          "shell.execute_reply.started": "2020-12-10T14:11:50.169620Z"
        },
        "id": "fGp1iK5iYF8_"
      },
      "source": [
        "new_data,new_y=smote(x_train,y_train,2)"
      ],
      "execution_count": 125,
      "outputs": []
    },
    {
      "cell_type": "code",
      "metadata": {
        "colab": {
          "base_uri": "https://localhost:8080/"
        },
        "id": "bsTHI-JdXYKq",
        "outputId": "cb417586-2813-48a3-d44d-b201ed3d5caf"
      },
      "source": [
        "new_y.value_counts()"
      ],
      "execution_count": 126,
      "outputs": [
        {
          "output_type": "execute_result",
          "data": {
            "text/plain": [
              "2    2835\n",
              "0    1325\n",
              "1    1297\n",
              "dtype: int64"
            ]
          },
          "metadata": {
            "tags": []
          },
          "execution_count": 126
        }
      ]
    },
    {
      "cell_type": "markdown",
      "metadata": {
        "id": "UpLQnx-rYF8_"
      },
      "source": [
        "### Fitting KNN"
      ]
    },
    {
      "cell_type": "code",
      "metadata": {
        "execution": {
          "iopub.execute_input": "2020-12-10T14:16:39.976346Z",
          "iopub.status.busy": "2020-12-10T14:16:39.975912Z",
          "iopub.status.idle": "2020-12-10T14:16:39.995013Z",
          "shell.execute_reply": "2020-12-10T14:16:39.994474Z",
          "shell.execute_reply.started": "2020-12-10T14:16:39.976309Z"
        },
        "colab": {
          "base_uri": "https://localhost:8080/"
        },
        "id": "kMV9kYplYF9A",
        "outputId": "02df9a92-9d73-4d16-a4ed-2c0f94d73785"
      },
      "source": [
        "knn_sm=KNeighborsClassifier(n_neighbors=20)\n",
        "knn_sm.fit(new_data,new_y)"
      ],
      "execution_count": 127,
      "outputs": [
        {
          "output_type": "execute_result",
          "data": {
            "text/plain": [
              "KNeighborsClassifier(algorithm='auto', leaf_size=30, metric='minkowski',\n",
              "                     metric_params=None, n_jobs=None, n_neighbors=20, p=2,\n",
              "                     weights='uniform')"
            ]
          },
          "metadata": {
            "tags": []
          },
          "execution_count": 127
        }
      ]
    },
    {
      "cell_type": "code",
      "metadata": {
        "execution": {
          "iopub.execute_input": "2020-12-10T14:13:19.445529Z",
          "iopub.status.busy": "2020-12-10T14:13:19.445289Z",
          "iopub.status.idle": "2020-12-10T14:13:20.634352Z",
          "shell.execute_reply": "2020-12-10T14:13:20.633592Z",
          "shell.execute_reply.started": "2020-12-10T14:13:19.445505Z"
        },
        "colab": {
          "base_uri": "https://localhost:8080/"
        },
        "id": "lUOarDGpYF9A",
        "outputId": "7ae03c46-8a51-4d3a-8094-63ed76c066c1"
      },
      "source": [
        "accuracy_score(new_y,knn_sm.predict(new_data))"
      ],
      "execution_count": 128,
      "outputs": [
        {
          "output_type": "execute_result",
          "data": {
            "text/plain": [
              "0.8830859446582371"
            ]
          },
          "metadata": {
            "tags": []
          },
          "execution_count": 128
        }
      ]
    },
    {
      "cell_type": "code",
      "metadata": {
        "execution": {
          "iopub.execute_input": "2020-12-10T14:12:54.531497Z",
          "iopub.status.busy": "2020-12-10T14:12:54.531269Z",
          "iopub.status.idle": "2020-12-10T14:12:54.776510Z",
          "shell.execute_reply": "2020-12-10T14:12:54.775540Z",
          "shell.execute_reply.started": "2020-12-10T14:12:54.531471Z"
        },
        "colab": {
          "base_uri": "https://localhost:8080/"
        },
        "id": "_xY2M-EYYF9B",
        "outputId": "8d618942-ea81-4a9c-ee91-d3b1eb59a0f6"
      },
      "source": [
        "accuracy_score(y_test,knn_sm.predict(x_test))"
      ],
      "execution_count": 129,
      "outputs": [
        {
          "output_type": "execute_result",
          "data": {
            "text/plain": [
              "0.811"
            ]
          },
          "metadata": {
            "tags": []
          },
          "execution_count": 129
        }
      ]
    },
    {
      "cell_type": "code",
      "metadata": {
        "execution": {
          "iopub.execute_input": "2020-12-10T14:13:59.911272Z",
          "iopub.status.busy": "2020-12-10T14:13:59.911061Z",
          "iopub.status.idle": "2020-12-10T14:13:59.914257Z",
          "shell.execute_reply": "2020-12-10T14:13:59.913486Z",
          "shell.execute_reply.started": "2020-12-10T14:13:59.911249Z"
        },
        "id": "iChrELL4YF9B"
      },
      "source": [
        "from sklearn.metrics import f1_score"
      ],
      "execution_count": 130,
      "outputs": []
    },
    {
      "cell_type": "code",
      "metadata": {
        "execution": {
          "iopub.execute_input": "2020-12-10T14:16:41.698131Z",
          "iopub.status.busy": "2020-12-10T14:16:41.697594Z",
          "iopub.status.idle": "2020-12-10T14:16:41.959258Z",
          "shell.execute_reply": "2020-12-10T14:16:41.958629Z",
          "shell.execute_reply.started": "2020-12-10T14:16:41.698068Z"
        },
        "colab": {
          "base_uri": "https://localhost:8080/"
        },
        "id": "3-fKD80OYF9C",
        "outputId": "d30d513b-05f8-4c9a-ea04-1c2f45baba7a"
      },
      "source": [
        "f1_score(y_test,knn_sm.predict(x_test),average='weighted')"
      ],
      "execution_count": 131,
      "outputs": [
        {
          "output_type": "execute_result",
          "data": {
            "text/plain": [
              "0.8056935568920416"
            ]
          },
          "metadata": {
            "tags": []
          },
          "execution_count": 131
        }
      ]
    },
    {
      "cell_type": "code",
      "metadata": {
        "colab": {
          "base_uri": "https://localhost:8080/"
        },
        "id": "HiX0b--DYF9C",
        "outputId": "6f6aaab8-057b-4e5f-80a0-29d2492027e2"
      },
      "source": [
        "f1_score(new_y,knn_sm.predict(new_data),average='weighted')"
      ],
      "execution_count": 132,
      "outputs": [
        {
          "output_type": "execute_result",
          "data": {
            "text/plain": [
              "0.8789907127407035"
            ]
          },
          "metadata": {
            "tags": []
          },
          "execution_count": 132
        }
      ]
    },
    {
      "cell_type": "code",
      "metadata": {
        "id": "SNcDH-oHZvL-"
      },
      "source": [
        "from sklearn.model_selection import cross_val_score\n",
        "import seaborn as sns\n",
        "sns.set_style('darkgrid')\n",
        "k=list(range(1,100)) # List of all Neighbors \n",
        "accuracies_sm=[]\n",
        "# We are checking for every k the cross-validation accuracy.\n",
        "# Calculating Accuracy using Cross-Validation.\n",
        "for i in k:\n",
        "    c_v=cross_val_score(KNeighborsClassifier(n_neighbors=i),X=new_data,y=new_y,cv=5,scoring=\"accuracy\")\n",
        "    accuracies_sm.append(np.mean(c_v))\n",
        "    del c_v"
      ],
      "execution_count": 133,
      "outputs": []
    },
    {
      "cell_type": "code",
      "metadata": {
        "id": "N0QafNwZeEhi"
      },
      "source": [
        "from sklearn.model_selection import cross_val_score\n",
        "import seaborn as sns\n",
        "sns.set_style('darkgrid')\n",
        "k=list(range(1,100)) # List of all Neighbors \n",
        "f_score=[]\n",
        "# We are checking for every k the cross-validation accuracy.\n",
        "# Calculating Accuracy using Cross-Validation.\n",
        "for i in k:\n",
        "    c_v=cross_val_score(KNeighborsClassifier(n_neighbors=i),X=new_data,y=new_y,cv=5,scoring=\"f1_weighted\")\n",
        "    f_score.append(np.mean(c_v))\n",
        "    del c_v"
      ],
      "execution_count": 134,
      "outputs": []
    },
    {
      "cell_type": "code",
      "metadata": {
        "colab": {
          "base_uri": "https://localhost:8080/"
        },
        "id": "21Jswq37eEOT",
        "outputId": "c223af04-fedd-4496-fef0-91527e0f34ed"
      },
      "source": [
        "accuracies_sm[:4], f_score[:4]"
      ],
      "execution_count": 135,
      "outputs": [
        {
          "output_type": "execute_result",
          "data": {
            "text/plain": [
              "([0.8567060498316227,\n",
              "  0.8568959149619095,\n",
              "  0.8620194196271189,\n",
              "  0.8655039735699681],\n",
              " [0.853378260129874,\n",
              "  0.8562497130641015,\n",
              "  0.8574216216110099,\n",
              "  0.8628580912613361])"
            ]
          },
          "metadata": {
            "tags": []
          },
          "execution_count": 135
        }
      ]
    },
    {
      "cell_type": "code",
      "metadata": {
        "colab": {
          "base_uri": "https://localhost:8080/",
          "height": 367
        },
        "id": "YtLfevRLZxI5",
        "outputId": "0ce0831c-a743-4306-d915-2ba7bcd4ac95"
      },
      "source": [
        "plt.figure(figsize=(10,5))\n",
        "sns.scatterplot(x=list(range(1,100)),y=accuracies_sm)\n",
        "sns.scatterplot(x=list(range(1,100)),y=f_score)\n",
        "plt.xlabel('Number of Neighbors')\n",
        "plt.ylabel(\"Value\")\n",
        "plt.ylim(0.74,0.89)\n",
        "plt.title(\"Accuracy and F1 Score for different k\")\n",
        "plt.savefig('sm.png') # Saving the png\n",
        "plt.legend(['Accuracy','F1 Score(Weighted)'])"
      ],
      "execution_count": 136,
      "outputs": [
        {
          "output_type": "execute_result",
          "data": {
            "text/plain": [
              "<matplotlib.legend.Legend at 0x7f01de057240>"
            ]
          },
          "metadata": {
            "tags": []
          },
          "execution_count": 136
        },
        {
          "output_type": "display_data",
          "data": {
            "image/png": "[encoded data removed]",
            "text/plain": [
              "<Figure size 720x360 with 1 Axes>"
            ]
          },
          "metadata": {
            "tags": []
          }
        }
      ]
    },
    {
      "cell_type": "code",
      "metadata": {
        "id": "vNtrYzs9dJKF"
      },
      "source": [
        ""
      ],
      "execution_count": 136,
      "outputs": []
    }
  ]
}